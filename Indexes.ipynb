{
 "cells": [
  {
   "cell_type": "code",
   "execution_count": null,
   "id": "4ff10122-7fac-4af9-938b-80b30cc20b98",
   "metadata": {
    "tags": []
   },
   "outputs": [],
   "source": [
    "from SpectralIndex import SpectralIndex as SI\n",
    "from LandcoverDataset import LandcoverDataset as LD\n",
    "from random import choice as c\n",
    "import numpy as np"
   ]
  },
  {
   "cell_type": "code",
   "execution_count": null,
   "id": "18ddaca7-ef52-4c10-9968-ea7ba0e55037",
   "metadata": {
    "tags": []
   },
   "outputs": [],
   "source": [
    "INDEXES = {\n",
    "    'BI': '((S1 + R) - (N + B))/((S1 + R) + (N + B))',\n",
    "    'BNDVI': '(N - B)/(N + B)',\n",
    "    'MGRVI': '(G ** 2.0 - R ** 2.0) / (G ** 2.0 + R ** 2.0)',\n",
    "    'NDCI': '(RE1 - R)/(RE1 + R)',\n",
    "    'NLI': '((N ** 2) - R)/((N ** 2) + R)',\n",
    "}"
   ]
  },
  {
   "cell_type": "code",
   "execution_count": null,
   "id": "96c38440-516b-4dd4-82f0-d5f721650a90",
   "metadata": {
    "tags": []
   },
   "outputs": [],
   "source": [
    "dl_valid = LD(\n",
    "    img_path=\"datasets/USA/train/images/\", \n",
    "    mask_path=\"datasets/USA/train/masks/\", \n",
    "    n_random = 500,\n",
    "    batch_size = 5,\n",
    "    transforms = False,\n",
    "    noweights=True\n",
    ")"
   ]
  },
  {
   "cell_type": "code",
   "execution_count": null,
   "id": "f20eec05-b2ab-4e52-b520-5d1e0f6d1cf2",
   "metadata": {
    "tags": []
   },
   "outputs": [],
   "source": [
    "r = c(range(500))\n",
    "print(r)\n",
    "dl_valid.plot_sample(r)"
   ]
  },
  {
   "cell_type": "code",
   "execution_count": null,
   "id": "d752f903-9562-4443-af58-6b61f480596f",
   "metadata": {
    "tags": []
   },
   "outputs": [],
   "source": [
    "r = c(range(500))\n",
    "print(r)\n",
    "for i in range(len(INDEXES)):\n",
    "    print(i + 1)\n",
    "    dl_valid.plot_sample(r, index=list(INDEXES.values())[i])"
   ]
  },
  {
   "cell_type": "code",
   "execution_count": null,
   "id": "350bf54f-45f0-402a-8568-5abc8d753181",
   "metadata": {
    "tags": []
   },
   "outputs": [],
   "source": [
    "np.array(ids) + 1"
   ]
  },
  {
   "cell_type": "code",
   "execution_count": null,
   "id": "9b01bd51-f9ab-4cd3-b7d3-ab345ff9a239",
   "metadata": {
    "tags": []
   },
   "outputs": [],
   "source": [
    "import warnings\n",
    "import numpy as np\n",
    "\n",
    "VALID_1 = {}\n",
    "\n",
    "for i in range(3):\n",
    "    for (i, (name, st)) in enumerate(list(INDEXES.items())):\n",
    "        try:\n",
    "            si = SI(st)\n",
    "            arr = dl_valid.images[r]\n",
    "            noise = np.random.normal(loc=0, scale=1e-8, size=arr.shape)\n",
    "\n",
    "            with warnings.catch_warnings(record=True) as w:\n",
    "                warnings.simplefilter('always')\n",
    "                res = si.apply(arr + noise)\n",
    "\n",
    "                # Check if any warnings were captured\n",
    "                if w:\n",
    "                    print(f\"Skipping {name} due to warning: {w[-1].message}\")\n",
    "                    continue\n",
    "\n",
    "            VALID_1[name] = si.formula\n",
    "        except Exception as e:\n",
    "            print(f\"Skipping {name} due to exception: {e}\")\n",
    "            continue\n",
    "            \n",
    "VALID_1"
   ]
  },
  {
   "cell_type": "code",
   "execution_count": null,
   "id": "98a08a60-ad38-4927-813d-a4036c1f2f1b",
   "metadata": {},
   "outputs": [],
   "source": []
  }
 ],
 "metadata": {
  "kernelspec": {
   "display_name": "DataSphere Kernel",
   "language": "python",
   "name": "python3"
  },
  "language_info": {
   "codemirror_mode": {
    "name": "ipython",
    "version": 3
   },
   "file_extension": ".py",
   "mimetype": "text/x-python",
   "name": "python",
   "nbconvert_exporter": "python",
   "pygments_lexer": "ipython3",
   "version": "3.10.12"
  }
 },
 "nbformat": 4,
 "nbformat_minor": 5
}
