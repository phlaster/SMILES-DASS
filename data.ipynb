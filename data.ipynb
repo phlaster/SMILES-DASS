{
 "cells": [
  {
   "cell_type": "code",
   "execution_count": null,
   "id": "be79c1ac",
   "metadata": {
    "execution": {
     "iopub.execute_input": "2024-08-11T21:11:05.132968Z",
     "iopub.status.busy": "2024-08-11T21:11:05.131957Z",
     "iopub.status.idle": "2024-08-11T21:11:05.175037Z",
     "shell.execute_reply": "2024-08-11T21:11:05.174088Z",
     "shell.execute_reply.started": "2024-08-11T21:11:05.132923Z"
    },
    "tags": []
   },
   "outputs": [],
   "source": [
    "# Chosen manually for class contrast diversity\n",
    "INDEXES = {\n",
    "    \"BI\": \"((S1 + R) - (N + B))/((S1 + R) + (N + B))\",\n",
    "    \"BNDVI\": \"(N - B)/(N + B)\",\n",
    "    \"MGRVI\": \"(G ** 2.0 - R ** 2.0) / (G ** 2.0 + R ** 2.0)\",\n",
    "    \"NDCI\": \"(RE1 - R)/(RE1 + R)\",\n",
    "    \"NLI\": \"((N ** 2) - R)/((N ** 2) + R)\",\n",
    "}"
   ]
  },
  {
   "cell_type": "code",
   "execution_count": null,
   "id": "084e698f-b67a-4bcf-b5f7-d3afc9998661",
   "metadata": {
    "execution": {
     "iopub.execute_input": "2024-08-11T21:11:01.788257Z",
     "iopub.status.busy": "2024-08-11T21:11:01.787554Z",
     "iopub.status.idle": "2024-08-11T21:11:01.851651Z",
     "shell.execute_reply": "2024-08-11T21:11:01.850656Z",
     "shell.execute_reply.started": "2024-08-11T21:11:01.788216Z"
    },
    "tags": []
   },
   "outputs": [],
   "source": [
    "import torch.nn as nn\n",
    "from LandcoverDataset import LandcoverDataset as LD\n",
    "from Model import CNN\n",
    "from utils import *\n",
    "from random import choice as c\n",
    "import matplotlib.pyplot as plt\n",
    "from matplotlib.ticker import AutoMinorLocator"
   ]
  },
  {
   "cell_type": "markdown",
   "id": "f71270d7-726e-4a09-b0d6-26032fd96b92",
   "metadata": {},
   "source": [
    "# Datasets loading into RAM"
   ]
  },
  {
   "cell_type": "code",
   "execution_count": null,
   "id": "2eb55f67-cd32-42a9-bcac-e238481d7d0e",
   "metadata": {
    "tags": []
   },
   "outputs": [],
   "source": [
    "BATCH = 8\n",
    "\n",
    "TRAIN = LD(\n",
    "    img_path=\"datasets/USA/train/images/\",\n",
    "    mask_path=\"datasets/USA/train/masks/\",\n",
    "    batch_size=BATCH,\n",
    "    indexes=list(INDEXES.values()),\n",
    "    n_random=200\n",
    ")\n",
    "VALIDATION = LD(\n",
    "    img_path=\"datasets/USA/valid/images/\",\n",
    "    mask_path=\"datasets/USA/valid/masks/\",\n",
    "    batch_size=BATCH,\n",
    "    transforms=False,\n",
    "    indexes=list(INDEXES.values()),\n",
    "    n_random=50\n",
    ")\n",
    "TEST = LD(\n",
    "    img_path=\"datasets/Russia/test/images/\",\n",
    "    mask_path=\"datasets/Russia/test/masks/\",\n",
    "    batch_size=BATCH,\n",
    "    transforms=False,\n",
    "    indexes=list(INDEXES.values()),\n",
    "    n_random=50\n",
    ")\n",
    "RUSSIA = LD(\n",
    "    img_path=\"datasets/Russia/train/images/\",\n",
    "    mask_path=\"datasets/Russia/train/masks/\",\n",
    "    batch_size=BATCH,\n",
    "    indexes=list(INDEXES.values()),\n",
    "    n_random=200\n",
    ")"
   ]
  },
  {
   "cell_type": "markdown",
   "id": "51401e2f-1358-44cd-a327-d67b9357c08a",
   "metadata": {},
   "source": [
    "## Some insights about data"
   ]
  },
  {
   "cell_type": "code",
   "execution_count": null,
   "id": "477d77d1-b18a-4ebe-8a3c-9960fea6dc23",
   "metadata": {
    "execution": {
     "iopub.execute_input": "2024-08-11T21:19:34.812688Z",
     "iopub.status.busy": "2024-08-11T21:19:34.811625Z",
     "iopub.status.idle": "2024-08-11T21:19:34.864951Z",
     "shell.execute_reply": "2024-08-11T21:19:34.864250Z",
     "shell.execute_reply.started": "2024-08-11T21:19:34.812631Z"
    },
    "tags": []
   },
   "outputs": [],
   "source": [
    "image_name, mask_name = TRAIN.rand_samp_names()\n",
    "print(1, tif_info(image_name))\n",
    "print(2, tif_info(mask_name))\n",
    "print(3)\n",
    "TRAIN.getinfo()"
   ]
  },
  {
   "cell_type": "markdown",
   "id": "7c883075-dfc0-4526-bbf2-a6c28413a4cd",
   "metadata": {},
   "source": [
    "## Just look at it"
   ]
  },
  {
   "cell_type": "code",
   "execution_count": null,
   "id": "a2a20f64-aee3-40e5-8e15-3f87bd274d5f",
   "metadata": {
    "tags": []
   },
   "outputs": [],
   "source": [
    "TRAIN.plot_sample(90)"
   ]
  },
  {
   "cell_type": "code",
   "execution_count": null,
   "id": "6b76c72c-1b7d-42aa-8b18-acb62b84d369",
   "metadata": {
    "tags": []
   },
   "outputs": [],
   "source": [
    "TRAIN.plot_sample(90,index=\"((N ** 2) - R)/((N ** 2) + R)\")"
   ]
  },
  {
   "cell_type": "code",
   "execution_count": null,
   "id": "a203fc7e-a065-491b-88ba-2609afa8bf88",
   "metadata": {
    "tags": []
   },
   "outputs": [],
   "source": [
    "TRAIN.plot_sample(90,index=\"(G ** 2.0 - R ** 2.0) / (G ** 2.0 + R ** 2.0)\")"
   ]
  },
  {
   "cell_type": "markdown",
   "id": "aec84c7d-9c20-47a5-844f-58671762b74b",
   "metadata": {},
   "source": [
    "# The model"
   ]
  },
  {
   "cell_type": "code",
   "execution_count": null,
   "id": "34a01be8-593a-46f6-b158-bf3e156e79cf",
   "metadata": {
    "tags": []
   },
   "outputs": [],
   "source": [
    "INPUT_CHANNELS = 10 + len(INDEXES)\n",
    "N_CLASSES = 5\n",
    "\n",
    "model = CNN([\n",
    "    nn.Conv2d(INPUT_CHANNELS, 32, kernel_size=3, padding=1),\n",
    "    nn.BatchNorm2d(32),\n",
    "    nn.ReLU(),\n",
    "    nn.Conv2d(32, 32, kernel_size=3, padding=1),\n",
    "    nn.BatchNorm2d(32),\n",
    "    nn.ReLU(),\n",
    "    nn.MaxPool2d(kernel_size=2, stride=2),\n",
    "\n",
    "    nn.Conv2d(32, 64, kernel_size=3, padding=1),\n",
    "    nn.BatchNorm2d(64),\n",
    "    nn.ReLU(),\n",
    "    nn.Conv2d(64, 64, kernel_size=3, padding=1),\n",
    "    nn.BatchNorm2d(64),\n",
    "    nn.ReLU(),\n",
    "    nn.MaxPool2d(kernel_size=2, stride=2),\n",
    "\n",
    "    nn.Conv2d(64, 128, kernel_size=3, padding=1),\n",
    "    nn.BatchNorm2d(128),\n",
    "    nn.ReLU(),\n",
    "    nn.Conv2d(128, 128, kernel_size=3, padding=1),\n",
    "    nn.BatchNorm2d(128),\n",
    "    nn.ReLU(),\n",
    "    nn.Conv2d(128, N_CLASSES, kernel_size=1),\n",
    "    nn.Upsample(size=(512, 512), mode='nearest')\n",
    "])"
   ]
  },
  {
   "cell_type": "markdown",
   "id": "d4855ba3-6ccf-40b1-955a-a0474f6024f6",
   "metadata": {},
   "source": [
    "## Hyperparameters"
   ]
  },
  {
   "cell_type": "code",
   "execution_count": null,
   "id": "b0025209-7fd4-41bc-bc31-03312a52a685",
   "metadata": {
    "tags": []
   },
   "outputs": [],
   "source": [
    "learning_rate = 0.001\n",
    "n_epochs = 20\n",
    "saving_threshold = 0.51"
   ]
  },
  {
   "cell_type": "markdown",
   "id": "15ab6a5a-30a7-43f7-89db-36c0f6f31bf6",
   "metadata": {},
   "source": [
    "## Start training"
   ]
  },
  {
   "cell_type": "code",
   "execution_count": null,
   "id": "d66e1211-57c9-45f4-9c4b-5b1e41eea790",
   "metadata": {
    "tags": []
   },
   "outputs": [],
   "source": [
    "model.train(TRAIN, VALIDATION, n_epochs, learning_rate, saving_threshold)"
   ]
  },
  {
   "cell_type": "code",
   "execution_count": null,
   "id": "457becd3",
   "metadata": {},
   "outputs": [],
   "source": [
    "VALIDATION.plot_prediction(model, 5)"
   ]
  },
  {
   "cell_type": "markdown",
   "id": "2a8990f7-6756-45f0-a0e1-a5939b830575",
   "metadata": {},
   "source": [
    "## Give it a name and pickle it"
   ]
  },
  {
   "cell_type": "code",
   "execution_count": null,
   "id": "9cec3f63-d994-4af6-b709-3ce406a7ad9e",
   "metadata": {},
   "outputs": [],
   "source": [
    "modelname = f\"lr={learning_rate},n_epochs={n_epochs},thres={saving_threshold}\"\n",
    "model.pickle(f\"models/{modelname}.torch\")"
   ]
  },
  {
   "cell_type": "code",
   "execution_count": null,
   "id": "fdabe95f-f3b1-4600-baa6-2cfaac4dc9b2",
   "metadata": {
    "tags": []
   },
   "outputs": [],
   "source": [
    "model.unpickle(f\"models/{modelname}.torch\")"
   ]
  },
  {
   "cell_type": "markdown",
   "id": "8c85d72b-55c5-4fe5-9661-5b40a7e74f0d",
   "metadata": {},
   "source": [
    "## Here is the training story (pickles alongside the model)"
   ]
  },
  {
   "cell_type": "code",
   "execution_count": null,
   "id": "65f4fa0c-7aa0-492b-ae1d-734fb38b3eb7",
   "metadata": {
    "tags": []
   },
   "outputs": [],
   "source": [
    "model.plot_training_history()"
   ]
  },
  {
   "cell_type": "markdown",
   "id": "1b8a8965-fc45-4708-992c-66fcdcf70078",
   "metadata": {
    "tags": []
   },
   "source": [
    "# Experiment\n",
    "Compare performance of a model on a new domain after 1 epoch of training with/without partial weights freezing."
   ]
  },
  {
   "cell_type": "code",
   "execution_count": null,
   "id": "bc371c38-b21e-473c-b34d-1c12e1436e9e",
   "metadata": {
    "tags": []
   },
   "outputs": [],
   "source": [
    "test_v = []\n",
    "test_t = []\n",
    "test_just = []\n",
    "test_frozen_0x6 = []\n",
    "LEARNING_RATE = 1e-3\n",
    "N_REPEATS = 10\n",
    "\n",
    "for _ in range(N_REPEATS):\n",
    "    model.unpickle(f\"models/{modelname}.torch\")\n",
    "    test_v.append(model.test(VALIDATION))\n",
    "    test_t.append(model.test(TEST))\n",
    "\n",
    "    model.unpickle(f\"models/{modelname}.torch\")\n",
    "    model.train(RUSSIA, TEST, 1, LEARNING_RATE, 2)\n",
    "    test_just.append(model.test(TEST))\n",
    "\n",
    "    model.unpickle(f\"models/{modelname}.torch\")\n",
    "    for i, param in enumerate(model.model.parameters()):\n",
    "        if i <= 6:\n",
    "            param.requires_grad = False\n",
    "    model.train(RUSSIA, TEST, 1, LEARNING_RATE, 2)\n",
    "    test_frozen_0x6.append(model.test(TEST))"
   ]
  },
  {
   "cell_type": "code",
   "execution_count": null,
   "id": "6ff067e9-c99b-469d-8089-2e7eda77a3b4",
   "metadata": {},
   "outputs": [],
   "source": [
    "import json\n",
    "\n",
    "data = {\n",
    "    'test_v': test_v,\n",
    "    'test_t': test_t,\n",
    "    'test_just': test_just,\n",
    "    'test_frozen_0x6': test_frozen_0x6,\n",
    "}\n",
    "\n",
    "with open('experiment_results/results.json', 'w') as f:\n",
    "    json.dump(data, f, indent=4)\n",
    "# with open('experiment_results/results.json', 'r') as f:\n",
    "#     data = json.load(f)"
   ]
  },
  {
   "cell_type": "code",
   "execution_count": null,
   "id": "296fc839",
   "metadata": {},
   "outputs": [],
   "source": [
    "def calculate_stats(results):\n",
    "    metrics = ['test_accuracy', 'test_recall', 'test_precision', 'test_f1']\n",
    "    stats = {metric: {'mean': [], 'std': []} for metric in metrics}\n",
    "    \n",
    "    for key in results:\n",
    "        for metric in metrics:\n",
    "            values = [run[metric] for run in results[key]]\n",
    "            stats[metric]['mean'].append(np.mean(values))\n",
    "            stats[metric]['std'].append(np.std(values))\n",
    "    \n",
    "    return stats"
   ]
  },
  {
   "cell_type": "code",
   "execution_count": null,
   "id": "0721ede0-3b7e-41a9-9460-d89df365c37f",
   "metadata": {
    "execution": {
     "iopub.execute_input": "2024-08-11T13:09:10.324878Z",
     "iopub.status.busy": "2024-08-11T13:09:10.323816Z",
     "iopub.status.idle": "2024-08-11T13:09:10.693852Z",
     "shell.execute_reply": "2024-08-11T13:09:10.692759Z",
     "shell.execute_reply.started": "2024-08-11T13:09:10.324833Z"
    },
    "tags": []
   },
   "outputs": [],
   "source": [
    "stats = calculate_stats(data)\n",
    "\n",
    "labels = ['Validation', 'Baseline', 'Just', 'Frozen 6']\n",
    "metrics = ['test_accuracy', 'test_recall', 'test_precision', 'test_f1']\n",
    "colors = ['#41BA9BFF', '#616161FF', '#FB6E52FF', '#4FC0E8FF']\n",
    "\n",
    "fig, axes = plt.subplots(4, 1, figsize=(10, 6))\n",
    "\n",
    "for i, metric in enumerate(metrics):\n",
    "    ax = axes[i]\n",
    "    values = stats[metric]['mean']\n",
    "    errs = stats[metric]['std']\n",
    "    \n",
    "    ax.barh(labels, values, color=colors, xerr=errs, capsize=5)    \n",
    "    \n",
    "    min_value = min(v - e for v, e in zip(values, errs))\n",
    "    max_value = max(v + e for v, e in zip(values, errs))\n",
    "    ax.set_xlim(min_value - 0.05, max_value + 0.05)\n",
    "    \n",
    "    ax.set_xlabel(metric.replace('test_', '').capitalize())\n",
    "    \n",
    "    ax.xaxis.set_major_locator(plt.AutoLocator())\n",
    "    ax.xaxis.set_minor_locator(AutoMinorLocator())\n",
    "\n",
    "plt.tight_layout()\n",
    "# plt.show()\n",
    "plt.savefig('assets/2.svg')"
   ]
  }
 ],
 "metadata": {
  "kernelspec": {
   "display_name": "Python 3 (ipykernel)",
   "language": "python",
   "name": "python3"
  },
  "language_info": {
   "codemirror_mode": {
    "name": "ipython",
    "version": 3
   },
   "file_extension": ".py",
   "mimetype": "text/x-python",
   "name": "python",
   "nbconvert_exporter": "python",
   "pygments_lexer": "ipython3",
   "version": "3.11.6"
  }
 },
 "nbformat": 4,
 "nbformat_minor": 5
}
