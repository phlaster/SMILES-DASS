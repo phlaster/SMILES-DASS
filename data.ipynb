{
 "cells": [
  {
   "cell_type": "code",
   "execution_count": null,
   "id": "084e698f-b67a-4bcf-b5f7-d3afc9998661",
   "metadata": {
    "tags": []
   },
   "outputs": [],
   "source": [
    "import os\n",
    "\n",
    "from torch.utils.data import DataLoader\n",
    "\n",
    "from LandcoverDataset import LandcoverDataset as LD\n",
    "from DataVis import *\n",
    "from Model import SimplePerceptron, load_perceptron"
   ]
  },
  {
   "cell_type": "markdown",
   "id": "f0867f0d-4d24-4ad4-aa29-503e82a23560",
   "metadata": {
    "tags": []
   },
   "source": [
    "**Sentinel-2A**\n",
    "|**N**        |0         |1          |2        |3     |4        | 5 | 6 | 7 | 8 | 9 | 10|\n",
    "|-------------|----------|-----------|---------|------|---------|---|---|---|---|---|---|\n",
    "|**channel**  |          |B02        |B03      |B04   |B05      |B06|B07|B08|B8A|B11|B12|\n",
    "|**seg. mask**|open water|settlements|bair soil|forest|grassland|   |   |   |   |   |   |"
   ]
  },
  {
   "cell_type": "markdown",
   "id": "f069825f-fa05-4945-b7ee-6fc7b318cdcc",
   "metadata": {
    "tags": []
   },
   "source": [
    "\n",
    "# Reading Data and creating Dataloader example in Pytorch"
   ]
  },
  {
   "cell_type": "code",
   "execution_count": null,
   "id": "da941545-b971-42c9-9585-878664d23bb2",
   "metadata": {
    "tags": []
   },
   "outputs": [],
   "source": [
    "TRAIN_PATH = \"datasets/USA/train/\"\n",
    "IMG_TRAIN = TRAIN_PATH + \"/images/\"\n",
    "MASK_TRAIN = TRAIN_PATH + \"/masks/\"\n",
    "l_train = 10 #len(LD.filenames_in_dir(IMG_TRAIN))\n",
    "\n",
    "VALID_PATH = \"datasets/USA/valid/\"\n",
    "IMG_VALID = VALID_PATH + \"/images/\"\n",
    "MASK_VALID = VALID_PATH + \"/masks/\"\n",
    "l_valid = 5 #len(LD.filenames_in_dir(IMG_VALID))"
   ]
  },
  {
   "cell_type": "code",
   "execution_count": null,
   "id": "7e8fdf3c-f81a-4e6e-b798-1fc9dda6ced0",
   "metadata": {
    "tags": []
   },
   "outputs": [],
   "source": [
    "print(f\"Train samples: {l_train}\")\n",
    "print(f\"Test samples: {l_valid}\")"
   ]
  },
  {
   "cell_type": "code",
   "execution_count": null,
   "id": "34727910-b2cf-4f72-9725-21c765fae498",
   "metadata": {
    "tags": []
   },
   "outputs": [],
   "source": [
    "BATCH = 2\n",
    "\n",
    "ds_train = LD(\n",
    "    img_path = IMG_TRAIN, \n",
    "    mask_path= MASK_TRAIN,\n",
    "    n1 = 0,\n",
    "    n2 = l_train\n",
    ")\n",
    "dl_train = DataLoader(ds_train, batch_size=BATCH, shuffle=True)\n",
    "\n",
    "ds_valid = LD(\n",
    "    img_path=IMG_VALID, \n",
    "    mask_path=MASK_VALID,\n",
    "    n1 = 0,\n",
    "    n2 = l_valid\n",
    ")\n",
    "dl_valid = DataLoader(ds_valid, batch_size=BATCH, shuffle=False)"
   ]
  },
  {
   "cell_type": "code",
   "execution_count": null,
   "id": "10638240-1756-4e3d-9bd9-99650f4fe5b6",
   "metadata": {
    "tags": []
   },
   "outputs": [],
   "source": [
    "print(f\"Images: {ds_train[0][0].shape}\")\n",
    "print(f\"Masks:  {ds_train[0][1].shape}\")"
   ]
  },
  {
   "cell_type": "code",
   "execution_count": null,
   "id": "4abe24e4-8c41-477c-8df3-124d628c262a",
   "metadata": {
    "tags": []
   },
   "outputs": [],
   "source": [
    "peek_dataset(ds_train)"
   ]
  },
  {
   "cell_type": "code",
   "execution_count": null,
   "id": "4f543292-fcd9-46d9-b78b-616b60080322",
   "metadata": {
    "tags": []
   },
   "outputs": [],
   "source": [
    "input_channels = 10\n",
    "hidden_layers = [32, 32]\n",
    "model = SimplePerceptron(input_channels, hidden_layers)\n",
    "model.model"
   ]
  },
  {
   "cell_type": "code",
   "execution_count": null,
   "id": "735fa9ae-1ab4-43c5-9e31-d5dffe16513f",
   "metadata": {
    "tags": []
   },
   "outputs": [],
   "source": [
    "num_epochs = 1\n",
    "learning_rate = 0.001\n",
    "epochs = 0"
   ]
  },
  {
   "cell_type": "code",
   "execution_count": null,
   "id": "824c27f3-e9fc-4b2b-8515-a9cd6bd7913b",
   "metadata": {
    "tags": []
   },
   "outputs": [],
   "source": [
    "model.train(dl_train, dl_valid, num_epochs, learning_rate)\n",
    "epochs += num_epochs"
   ]
  },
  {
   "cell_type": "markdown",
   "id": "c929fe65-ce46-41fb-bada-124f7d9d3fb3",
   "metadata": {},
   "source": [
    "| | | |\n",
    "|-|-|-|\n",
    "|BATCH              |48    |48       |\n",
    "|LR                 |0.01  |0.01     |\n",
    "|epochs             |10    |5        |\n",
    "|validation accuracy|71.38%|         |\n",
    "|hidden_layers      |128,32|128,64,16|"
   ]
  },
  {
   "cell_type": "code",
   "execution_count": null,
   "id": "ad900b63-cfb1-4209-913d-6dc978cb1109",
   "metadata": {
    "tags": []
   },
   "outputs": [],
   "source": [
    "img, mask = ds_train.rand_samp_names()\n",
    "prediction = model.predict(img)\n",
    "compare_prediction(img, mask, prediction)"
   ]
  },
  {
   "cell_type": "code",
   "execution_count": null,
   "id": "47458432-0344-4e19-8b9b-2b342c88a5a9",
   "metadata": {
    "tags": []
   },
   "outputs": [],
   "source": [
    "m_name = f\"ne={num_epochs}, hl={hidden_layers}\"\n",
    "model.pickle(f\"models/{m_name}.torch\")"
   ]
  },
  {
   "cell_type": "code",
   "execution_count": null,
   "id": "fb59321e-0495-42ac-9f77-0b318c3076c5",
   "metadata": {
    "tags": []
   },
   "outputs": [],
   "source": [
    "model.unpickle(\"models/model.torch\")"
   ]
  },
  {
   "cell_type": "code",
   "execution_count": null,
   "id": "93c78551-a54d-4bc7-8424-9cbe8872db80",
   "metadata": {
    "tags": []
   },
   "outputs": [],
   "source": [
    "model = load_model(\"models/model.torch\")"
   ]
  }
 ],
 "metadata": {
  "kernelspec": {
   "display_name": "DataSphere Kernel",
   "language": "python",
   "name": "python3"
  },
  "language_info": {
   "codemirror_mode": {
    "name": "ipython",
    "version": 3
   },
   "file_extension": ".py",
   "mimetype": "text/x-python",
   "name": "python",
   "nbconvert_exporter": "python",
   "pygments_lexer": "ipython3",
   "version": "3.10.12"
  }
 },
 "nbformat": 4,
 "nbformat_minor": 5
}
