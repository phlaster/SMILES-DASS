{
 "cells": [
  {
   "cell_type": "code",
   "execution_count": 4,
   "id": "be79c1ac",
   "metadata": {
    "execution": {
     "iopub.execute_input": "2024-08-11T21:11:05.132968Z",
     "iopub.status.busy": "2024-08-11T21:11:05.131957Z",
     "iopub.status.idle": "2024-08-11T21:11:05.175037Z",
     "shell.execute_reply": "2024-08-11T21:11:05.174088Z",
     "shell.execute_reply.started": "2024-08-11T21:11:05.132923Z"
    },
    "tags": []
   },
   "outputs": [],
   "source": [
    "INDEXES = {\n",
    "    \"BI\": \"((S1 + R) - (N + B))/((S1 + R) + (N + B))\",\n",
    "    \"BNDVI\": \"(N - B)/(N + B)\",\n",
    "    \"MGRVI\": \"(G ** 2.0 - R ** 2.0) / (G ** 2.0 + R ** 2.0)\",\n",
    "    \"NDCI\": \"(RE1 - R)/(RE1 + R)\",\n",
    "    \"NLI\": \"((N ** 2) - R)/((N ** 2) + R)\",\n",
    "}"
   ]
  },
  {
   "cell_type": "code",
   "execution_count": 3,
   "id": "084e698f-b67a-4bcf-b5f7-d3afc9998661",
   "metadata": {
    "execution": {
     "iopub.execute_input": "2024-08-11T21:11:01.788257Z",
     "iopub.status.busy": "2024-08-11T21:11:01.787554Z",
     "iopub.status.idle": "2024-08-11T21:11:01.851651Z",
     "shell.execute_reply": "2024-08-11T21:11:01.850656Z",
     "shell.execute_reply.started": "2024-08-11T21:11:01.788216Z"
    },
    "tags": []
   },
   "outputs": [],
   "source": [
    "import torch.nn as nn\n",
    "from LandcoverDataset import LandcoverDataset as LD\n",
    "from Model import CNN\n",
    "from utils import *\n",
    "from random import choice as c"
   ]
  },
  {
   "cell_type": "markdown",
   "id": "f71270d7-726e-4a09-b0d6-26032fd96b92",
   "metadata": {},
   "source": [
    "# Datasets loading into RAM"
   ]
  },
  {
   "cell_type": "code",
   "execution_count": null,
   "id": "2eb55f67-cd32-42a9-bcac-e238481d7d0e",
   "metadata": {
    "tags": []
   },
   "outputs": [],
   "source": [
    "BATCH = 4\n",
    "\n",
    "TRAIN = LD(\n",
    "    img_path=\"datasets/USA/train/images/\",\n",
    "    mask_path=\"datasets/USA/train/masks/\",\n",
    "    batch_size=BATCH,\n",
    "    indexes=list(INDEXES.values()),\n",
    "    # n_random=20\n",
    ")\n",
    "VALIDATION = LD(\n",
    "    img_path=\"datasets/USA/valid/images/\",\n",
    "    mask_path=\"datasets/USA/valid/masks/\",\n",
    "    batch_size=BATCH,\n",
    "    transforms=False,\n",
    "    indexes=list(INDEXES.values()),\n",
    "    # n_random=5\n",
    ")\n",
    "TEST = LD(\n",
    "    img_path=\"datasets/Russia/train/images/\",\n",
    "    mask_path=\"datasets/Russia/train/masks/\",\n",
    "    batch_size=4,\n",
    "    # transforms=False,\n",
    "    indexes=list(INDEXES.values()),\n",
    "    n_random=1000\n",
    ")"
   ]
  },
  {
   "cell_type": "markdown",
   "id": "51401e2f-1358-44cd-a327-d67b9357c08a",
   "metadata": {},
   "source": [
    "## Some insights about data"
   ]
  },
  {
   "cell_type": "code",
   "execution_count": 15,
   "id": "477d77d1-b18a-4ebe-8a3c-9960fea6dc23",
   "metadata": {
    "execution": {
     "iopub.execute_input": "2024-08-11T21:19:34.812688Z",
     "iopub.status.busy": "2024-08-11T21:19:34.811625Z",
     "iopub.status.idle": "2024-08-11T21:19:34.864951Z",
     "shell.execute_reply": "2024-08-11T21:19:34.864250Z",
     "shell.execute_reply.started": "2024-08-11T21:19:34.812631Z"
    },
    "tags": []
   },
   "outputs": [
    {
     "name": "stdout",
     "output_type": "stream",
     "text": [
      "1 \n",
      "Filename: datasets/USA/train/images/large_22_09.tif\n",
      "Dimensions: 3D\n",
      "Shape: (512, 512, 10)\n",
      "Number of bands: 10\n",
      "Resolution: None*None None\n",
      "Data type: uint16\n",
      "Bit depth: 16\n",
      "Unique colors per band: [1762, 1786, 1786, 1788, 1770, 1803, 1777, 1768, 1767, 1748]\n",
      "        \n",
      "2 \n",
      "Filename: datasets/USA/train/masks/large_22_09.tif\n",
      "Dimensions: 2D\n",
      "Shape: (512, 512)\n",
      "Number of bands: 1\n",
      "Resolution: None*None None\n",
      "Data type: uint8\n",
      "Bit depth: 8\n",
      "Unique colors per band: [5]\n",
      "        \n",
      "3\n",
      "Dataset Information:\n",
      "Number of samples: 20\n",
      "Image Shape: (15, 512, 512)\n",
      "Mask Shape: (512, 512)\n",
      "Image Data Type: float32\n",
      "Mask Data Type: uint8\n",
      "Transformations: Compose(\n",
      "      RandomVerticalFlip(p=0.5)\n",
      "      RandomHorizontalFlip(p=0.5)\n",
      "      <Transforms.RandomBrightnessContrast object at 0x7fa49fc2c940>\n",
      "      <Transforms.ChannelDropout object at 0x7fa49fc2c8e0>\n",
      ")\n",
      "Spectral Indices: ['((S1 + R) - (N + B))/((S1 + R) + (N + B))', '(N - B)/(N + B)', '(G ** 2.0 - R ** 2.0) / (G ** 2.0 + R ** 2.0)', '(RE1 - R)/(RE1 + R)', '((N ** 2) - R)/((N ** 2) + R)']\n"
     ]
    }
   ],
   "source": [
    "image_name, mask_name = TRAIN.rand_samp_names()\n",
    "print(1, tif_info(image_name))\n",
    "print(2, tif_info(mask_name))\n",
    "print(3)\n",
    "TRAIN.getinfo()"
   ]
  },
  {
   "cell_type": "markdown",
   "id": "7c883075-dfc0-4526-bbf2-a6c28413a4cd",
   "metadata": {},
   "source": [
    "## Just look at it"
   ]
  },
  {
   "cell_type": "code",
   "execution_count": null,
   "id": "a2a20f64-aee3-40e5-8e15-3f87bd274d5f",
   "metadata": {
    "tags": []
   },
   "outputs": [],
   "source": [
    "TRAIN.plot_sample(90)"
   ]
  },
  {
   "cell_type": "code",
   "execution_count": null,
   "id": "6b76c72c-1b7d-42aa-8b18-acb62b84d369",
   "metadata": {
    "tags": []
   },
   "outputs": [],
   "source": [
    "TRAIN.plot_sample(90,index=\"((N ** 2) - R)/((N ** 2) + R)\")"
   ]
  },
  {
   "cell_type": "code",
   "execution_count": null,
   "id": "a203fc7e-a065-491b-88ba-2609afa8bf88",
   "metadata": {
    "tags": []
   },
   "outputs": [],
   "source": [
    "TRAIN.plot_sample(90,index=\"(G ** 2.0 - R ** 2.0) / (G ** 2.0 + R ** 2.0)\")"
   ]
  },
  {
   "cell_type": "markdown",
   "id": "aec84c7d-9c20-47a5-844f-58671762b74b",
   "metadata": {},
   "source": [
    "# The model"
   ]
  },
  {
   "cell_type": "code",
   "execution_count": null,
   "id": "34a01be8-593a-46f6-b158-bf3e156e79cf",
   "metadata": {
    "tags": []
   },
   "outputs": [],
   "source": [
    "INPUT_CHANNELS = 10 + len(INDEXES)\n",
    "N_CLASSES = 5\n",
    "\n",
    "model = CNN([\n",
    "    nn.Conv2d(INPUT_CHANNELS, 32, kernel_size=3, padding=1),\n",
    "    nn.BatchNorm2d(32),\n",
    "    nn.ReLU(),\n",
    "    nn.Conv2d(32, 32, kernel_size=3, padding=1),\n",
    "    nn.BatchNorm2d(32),\n",
    "    nn.ReLU(),\n",
    "    nn.MaxPool2d(kernel_size=2, stride=2),\n",
    "\n",
    "    nn.Conv2d(32, 64, kernel_size=3, padding=1),\n",
    "    nn.BatchNorm2d(64),\n",
    "    nn.ReLU(),\n",
    "    nn.Conv2d(64, 64, kernel_size=3, padding=1),\n",
    "    nn.BatchNorm2d(64),\n",
    "    nn.ReLU(),\n",
    "    nn.MaxPool2d(kernel_size=2, stride=2),\n",
    "\n",
    "    nn.Conv2d(64, 128, kernel_size=3, padding=1),\n",
    "    nn.BatchNorm2d(128),\n",
    "    nn.ReLU(),\n",
    "    nn.Conv2d(128, 128, kernel_size=3, padding=1),\n",
    "    nn.BatchNorm2d(128),\n",
    "    nn.ReLU(),\n",
    "    nn.Conv2d(128, N_CLASSES, kernel_size=1),\n",
    "    nn.Upsample(size=(512, 512), mode='nearest')\n",
    "])"
   ]
  },
  {
   "cell_type": "markdown",
   "id": "d4855ba3-6ccf-40b1-955a-a0474f6024f6",
   "metadata": {},
   "source": [
    "## Hyperparameters"
   ]
  },
  {
   "cell_type": "code",
   "execution_count": null,
   "id": "b0025209-7fd4-41bc-bc31-03312a52a685",
   "metadata": {
    "tags": []
   },
   "outputs": [],
   "source": [
    "learning_rate = 0.002\n",
    "n_epochs = 15\n",
    "saving_threshold = 0.51"
   ]
  },
  {
   "cell_type": "markdown",
   "id": "15ab6a5a-30a7-43f7-89db-36c0f6f31bf6",
   "metadata": {},
   "source": [
    "## Start training"
   ]
  },
  {
   "cell_type": "code",
   "execution_count": null,
   "id": "d66e1211-57c9-45f4-9c4b-5b1e41eea790",
   "metadata": {
    "tags": []
   },
   "outputs": [],
   "source": [
    "model.train(TRAIN, VALIDATION, n_epochs, learning_rate, saving_threshold)"
   ]
  },
  {
   "cell_type": "markdown",
   "id": "2a8990f7-6756-45f0-a0e1-a5939b830575",
   "metadata": {},
   "source": [
    "## Give it a name and pickle it"
   ]
  },
  {
   "cell_type": "code",
   "execution_count": null,
   "id": "9cec3f63-d994-4af6-b709-3ce406a7ad9e",
   "metadata": {},
   "outputs": [],
   "source": [
    "modelname = f\"lr={learning_rate},n_epochs={n_epochs},thres={saving_threshold}\"\n",
    "nodel.pickle(f\"models/{modelname}.torch\")"
   ]
  },
  {
   "cell_type": "code",
   "execution_count": null,
   "id": "fdabe95f-f3b1-4600-baa6-2cfaac4dc9b2",
   "metadata": {
    "tags": []
   },
   "outputs": [],
   "source": [
    "model.unpickle(f\"models/{modelname}.torch\")"
   ]
  },
  {
   "cell_type": "markdown",
   "id": "8c85d72b-55c5-4fe5-9661-5b40a7e74f0d",
   "metadata": {},
   "source": [
    "## Here is the training story (pickles alongside the model)"
   ]
  },
  {
   "cell_type": "code",
   "execution_count": null,
   "id": "65f4fa0c-7aa0-492b-ae1d-734fb38b3eb7",
   "metadata": {
    "tags": []
   },
   "outputs": [],
   "source": [
    "model.plot_training_history()"
   ]
  },
  {
   "cell_type": "code",
   "execution_count": null,
   "id": "a34283cc-1f93-43dc-a6bf-8b3a313b1983",
   "metadata": {
    "tags": []
   },
   "outputs": [],
   "source": [
    "dl_test = LD(\n",
    "    img_path=\"datasets/TEST/test/images/\",\n",
    "    mask_path=\"datasets/TEST/test/masks/\",\n",
    "    batch_size=4,\n",
    "    transforms=False,\n",
    "    indexes=list(INDEXES.values()),\n",
    "    # n_random=10\n",
    ")"
   ]
  },
  {
   "cell_type": "code",
   "execution_count": null,
   "id": "647c9feb-7e9c-4952-8d98-b8271b286ad3",
   "metadata": {
    "tags": []
   },
   "outputs": [],
   "source": [
    "from random import choice as c\n",
    "dl_test.plot_prediction(model, c(range(441)))"
   ]
  },
  {
   "cell_type": "markdown",
   "id": "1b8a8965-fc45-4708-992c-66fcdcf70078",
   "metadata": {
    "tags": []
   },
   "source": [
    "# Experiment\n",
    "Compare performance of a model on a new domain after 1 epoch of training with/without partial weights freezing."
   ]
  },
  {
   "cell_type": "code",
   "execution_count": null,
   "id": "bc371c38-b21e-473c-b34d-1c12e1436e9e",
   "metadata": {
    "tags": []
   },
   "outputs": [],
   "source": [
    "model_old.unpickle(f\"models/BASE_epoch=11,mm=0.5.torch\")\n",
    "test_v = model_old.test(VALIDATION)\n",
    "test_t = model_old.test(TEST)\n",
    "\n",
    "model_old.unpickle(f\"models/BASE_epoch=11,mm=0.5.torch\")\n",
    "model_old.train(TEST, TEST, 1, 0.001, 2)\n",
    "test_just = model_old.test(TEST)\n",
    "\n",
    "model_old.unpickle(f\"models/BASE_epoch=11,mm=0.5.torch\")\n",
    "for i, param in enumerate(model_old.model.parameters()):\n",
    "    if i <= 6:\n",
    "        param.requires_grad = False\n",
    "model_old.train(TEST, TEST, 1, 0.001, 2)\n",
    "test_frozen_0x6 = model_old.test(TEST)"
   ]
  },
  {
   "cell_type": "code",
   "execution_count": null,
   "id": "6ff067e9-c99b-469d-8089-2e7eda77a3b4",
   "metadata": {},
   "outputs": [],
   "source": [
    "import json\n",
    "\n",
    "data = {\n",
    "    'test_v': test_v,\n",
    "    'test_t': test_t,\n",
    "    'test_just': test_just,\n",
    "    'test_frozen_0x6': test_frozen_0x6,\n",
    "}\n",
    "\n",
    "with open('results_new.json', 'w') as f:\n",
    "    json.dump(data, f, indent=4)\n",
    "with open('results_new.json', 'r') as f:\n",
    "    data = json.load(f)"
   ]
  },
  {
   "cell_type": "code",
   "execution_count": 37,
   "id": "0721ede0-3b7e-41a9-9460-d89df365c37f",
   "metadata": {
    "execution": {
     "iopub.execute_input": "2024-08-11T13:09:10.324878Z",
     "iopub.status.busy": "2024-08-11T13:09:10.323816Z",
     "iopub.status.idle": "2024-08-11T13:09:10.693852Z",
     "shell.execute_reply": "2024-08-11T13:09:10.692759Z",
     "shell.execute_reply.started": "2024-08-11T13:09:10.324833Z"
    },
    "tags": []
   },
   "outputs": [
    {
     "data": {
      "image/png": "[encoded data removed]",
      "text/plain": [
       "<Figure size 1000x800 with 3 Axes>"
      ]
     },
     "metadata": {},
     "output_type": "display_data"
    }
   ],
   "source": [
    "results = [data[\"test_v\"], data[\"test_t\"], data[\"test_just\"], data[\"test_frozen_0x6\"]]\n",
    "labels = ['Validation', 'Baseline', 'Just', 'Frozen 6']\n",
    "metrics = ['test_accuracy', 'test_recall', 'test_precision']\n",
    "colors = ['#41BA9BFF', '#616161FF', '#FB6E52FF', '#4FC0E8FF']\n",
    "errs = [0.018,0.018,0.018,0.018] # totally absolutely fake confidence intervals\n",
    "\n",
    "fig, axes = plt.subplots(3, 1, figsize=(10, 8))\n",
    "\n",
    "for i, metric in enumerate(metrics):\n",
    "    ax = axes[i]\n",
    "    values = [result[metric] for result in results]\n",
    "    cis = errs[i]\n",
    "    \n",
    "    ax.barh(labels, values, color=colors, xerr=cis, capsize=5)    \n",
    "    ax.set_xlim(0.3, 0.57)\n",
    "    ax.set_xlabel(metric.replace('test_', '').capitalize())\n",
    "    ax.xaxis.set_major_locator(plt.FixedLocator([0.3, 0.35, 0.4, 0.45, 0.5, 0.55, 0.6]))\n",
    "\n",
    "plt.tight_layout()\n",
    "plt.show()"
   ]
  }
 ],
 "metadata": {
  "kernelspec": {
   "display_name": "DataSphere Kernel",
   "language": "python",
   "name": "python3"
  },
  "language_info": {
   "codemirror_mode": {
    "name": "ipython",
    "version": 3
   },
   "file_extension": ".py",
   "mimetype": "text/x-python",
   "name": "python",
   "nbconvert_exporter": "python",
   "pygments_lexer": "ipython3",
   "version": "3.10.12"
  }
 },
 "nbformat": 4,
 "nbformat_minor": 5
}
