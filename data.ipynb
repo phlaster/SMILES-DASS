{
 "cells": [
  {
   "cell_type": "markdown",
   "id": "f0867f0d-4d24-4ad4-aa29-503e82a23560",
   "metadata": {
    "tags": []
   },
   "source": [
    "## Channels\n",
    "|**N**          |0  |1  |2  |3  |4  | 5 | 6 | 7 | 8 | 9 |\n",
    "|---------------|---|---|---|---|---|---|---|---|---|---|\n",
    "|**Sentinel-2A**|B02|B03|B04|B05|B06|B07|B08|B8A|B11|B12|\n",
    "|**Standard**   |B  |G  |R  |RE1|RE2|RE3|N  |N2 |S1 |S2 |\n",
    "\n",
    "## Classes:\n",
    "|**N**        |1  |2  |3  |4  | 5 |\n",
    "|-|-|-|-|-|-|\n",
    "|**seg. mask**|open water|settlements|bair soil|forest|grassland|\n",
    "\n",
    "## Indexes:\n",
    "|short|long|type|formula|\n",
    "|-|-|-|-|\n",
    "LSWI|Land Surface Water Index|water|(N - S1)/(N + S1)"
   ]
  },
  {
   "cell_type": "code",
   "execution_count": null,
   "id": "be79c1ac",
   "metadata": {
    "tags": []
   },
   "outputs": [],
   "source": [
    "INDEXES = {\n",
    "    \"BI\": \"((S1 + R) - (N + B))/((S1 + R) + (N + B))\",\n",
    "    \"BNDVI\": \"(N - B)/(N + B)\",\n",
    "    \"MGRVI\": \"(G ** 2.0 - R ** 2.0) / (G ** 2.0 + R ** 2.0)\",\n",
    "    \"NDCI\": \"(RE1 - R)/(RE1 + R)\",\n",
    "    \"NLI\": \"((N ** 2) - R)/((N ** 2) + R)\",\n",
    "}"
   ]
  },
  {
   "cell_type": "code",
   "execution_count": null,
   "id": "084e698f-b67a-4bcf-b5f7-d3afc9998661",
   "metadata": {
    "tags": []
   },
   "outputs": [],
   "source": [
    "import torch.nn as nn\n",
    "from DataVis import *\n",
    "from LandcoverDataset import LandcoverDataset as LD\n",
    "from Model import CNN, ResidualBlock\n",
    "from utils import *\n",
    "from random import choice as c"
   ]
  },
  {
   "cell_type": "code",
   "execution_count": null,
   "id": "2eb55f67-cd32-42a9-bcac-e238481d7d0e",
   "metadata": {
    "tags": []
   },
   "outputs": [],
   "source": [
    "BATCH = 4\n",
    "\n",
    "# dl_train = LD(\n",
    "#     img_path=\"datasets/USA/train/images/\",\n",
    "#     mask_path=\"datasets/USA/train/masks/\",\n",
    "#     batch_size=BATCH,\n",
    "#     indexes=list(INDEXES.values()),\n",
    "#     # n_random=10\n",
    "# )\n",
    "dl_valid = LD(\n",
    "    img_path=\"datasets/USA/valid/images/\",\n",
    "    mask_path=\"datasets/USA/valid/masks/\",\n",
    "    batch_size=BATCH,\n",
    "    transforms=False,\n",
    "    indexes=list(INDEXES.values()),\n",
    "    # n_random=10\n",
    ")"
   ]
  },
  {
   "cell_type": "code",
   "execution_count": null,
   "id": "4f543292-fcd9-46d9-b78b-616b60080322",
   "metadata": {
    "jupyter": {
     "source_hidden": true
    },
    "tags": []
   },
   "outputs": [],
   "source": [
    "INPUT_CHANNELS = 10 + len(INDEXES)\n",
    "N_CLASSES = 5\n",
    "DROPOUT_RATE = 0.2\n",
    "\n",
    "layers = [\n",
    "    nn.Conv2d(INPUT_CHANNELS, 32, kernel_size=3, padding=1),\n",
    "    nn.ReLU(),\n",
    "    nn.BatchNorm2d(32),\n",
    "\n",
    "    nn.Conv2d(32, 64, kernel_size=3, padding=1),\n",
    "    nn.ReLU(),\n",
    "    nn.BatchNorm2d(64),\n",
    "\n",
    "    ResidualBlock(64, 64),\n",
    "    ResidualBlock(64, 64),\n",
    "\n",
    "    nn.Conv2d(64, 128, kernel_size=3, padding=1),\n",
    "    nn.ReLU(),\n",
    "    nn.BatchNorm2d(128),\n",
    "    nn.MaxPool2d(kernel_size=2, stride=2),\n",
    "    # nn.Dropout2d(p=DROPOUT_RATE),  # Consider removing dropout here\n",
    "\n",
    "    ResidualBlock(128, 128),\n",
    "\n",
    "    nn.Conv2d(128, 256, kernel_size=3, padding=1),\n",
    "    nn.ReLU(),\n",
    "    nn.BatchNorm2d(256),\n",
    "    nn.MaxPool2d(kernel_size=2, stride=2),\n",
    "\n",
    "    ResidualBlock(256, 256),\n",
    "\n",
    "    nn.Conv2d(256, 512, kernel_size=3, padding=1),\n",
    "    nn.ReLU(),\n",
    "    nn.BatchNorm2d(512),\n",
    "\n",
    "    ResidualBlock(512, 512),\n",
    "    ResidualBlock(512, 512),\n",
    "\n",
    "    nn.Conv2d(512, N_CLASSES, kernel_size=1),\n",
    "    nn.Upsample(size=(512, 512), mode=\"nearest\"),\n",
    "]\n",
    "\n",
    "model = CNN(layers)"
   ]
  },
  {
   "cell_type": "code",
   "execution_count": null,
   "id": "34a01be8-593a-46f6-b158-bf3e156e79cf",
   "metadata": {
    "tags": []
   },
   "outputs": [],
   "source": [
    "INPUT_CHANNELS = 10 + len(INDEXES)\n",
    "N_CLASSES = 5\n",
    "\n",
    "model_old = CNN([\n",
    "    nn.Conv2d(INPUT_CHANNELS, 32, kernel_size=3, padding=1),\n",
    "    nn.BatchNorm2d(32),\n",
    "    nn.ReLU(),\n",
    "    nn.Conv2d(32, 32, kernel_size=3, padding=1),\n",
    "    nn.BatchNorm2d(32),\n",
    "    nn.ReLU(),\n",
    "    nn.MaxPool2d(kernel_size=2, stride=2),\n",
    "\n",
    "    nn.Conv2d(32, 64, kernel_size=3, padding=1),\n",
    "    nn.BatchNorm2d(64),\n",
    "    nn.ReLU(),\n",
    "    nn.Conv2d(64, 64, kernel_size=3, padding=1),\n",
    "    nn.BatchNorm2d(64),\n",
    "    nn.ReLU(),\n",
    "    nn.MaxPool2d(kernel_size=2, stride=2),\n",
    "\n",
    "    nn.Conv2d(64, 128, kernel_size=3, padding=1),\n",
    "    nn.BatchNorm2d(128),\n",
    "    nn.ReLU(),\n",
    "    nn.Conv2d(128, 128, kernel_size=3, padding=1),\n",
    "    nn.BatchNorm2d(128),\n",
    "    nn.ReLU(),\n",
    "    nn.Conv2d(128, N_CLASSES, kernel_size=1),\n",
    "    nn.Upsample(size=(512, 512), mode='nearest')\n",
    "])"
   ]
  },
  {
   "cell_type": "code",
   "execution_count": null,
   "id": "a2a20f64-aee3-40e5-8e15-3f87bd274d5f",
   "metadata": {
    "tags": []
   },
   "outputs": [],
   "source": [
    "dl_valid.plot_sample(90)"
   ]
  },
  {
   "cell_type": "code",
   "execution_count": null,
   "id": "6b76c72c-1b7d-42aa-8b18-acb62b84d369",
   "metadata": {
    "tags": []
   },
   "outputs": [],
   "source": [
    "dl_valid.plot_sample(90,index=\"((N ** 2) - R)/((N ** 2) + R)\")"
   ]
  },
  {
   "cell_type": "code",
   "execution_count": null,
   "id": "a203fc7e-a065-491b-88ba-2609afa8bf88",
   "metadata": {},
   "outputs": [],
   "source": [
    "dl_valid.plot_sample(90,index=\"(G ** 2.0 - R ** 2.0) / (G ** 2.0 + R ** 2.0)\")"
   ]
  },
  {
   "cell_type": "code",
   "execution_count": null,
   "id": "b2672add-e6f4-4335-bd4a-295833a10548",
   "metadata": {},
   "outputs": [],
   "source": []
  },
  {
   "cell_type": "code",
   "execution_count": null,
   "id": "1a5fe9ab-78ce-478c-8797-b79032b5543d",
   "metadata": {
    "tags": []
   },
   "outputs": [],
   "source": [
    "dl_test.plot_prediction(model_old, c(range(345)))"
   ]
  },
  {
   "cell_type": "code",
   "execution_count": null,
   "id": "824c27f3-e9fc-4b2b-8515-a9cd6bd7913b",
   "metadata": {
    "tags": []
   },
   "outputs": [],
   "source": [
    "model_old.train(dl_train, dl_valid, 3, 0.001, 0.45)"
   ]
  },
  {
   "cell_type": "code",
   "execution_count": null,
   "id": "921227ad-cef6-476b-94c7-05cae3951569",
   "metadata": {},
   "outputs": [],
   "source": [
    "model.pickle(f\"models/res_blocks.torch\")"
   ]
  },
  {
   "cell_type": "code",
   "execution_count": null,
   "id": "fdabe95f-f3b1-4600-baa6-2cfaac4dc9b2",
   "metadata": {
    "tags": []
   },
   "outputs": [],
   "source": [
    "# model.unpickle(\"models/next.torch\")\n",
    "# model.unpickle(\"models/res_blocks.torch\")\n",
    "model_old.unpickle(\"models/deep_CNN_epoch=3,mm=0.46.torch\")"
   ]
  },
  {
   "cell_type": "code",
   "execution_count": null,
   "id": "65f4fa0c-7aa0-492b-ae1d-734fb38b3eb7",
   "metadata": {
    "tags": []
   },
   "outputs": [],
   "source": [
    "model_old.plot_training_history()"
   ]
  },
  {
   "cell_type": "code",
   "execution_count": null,
   "id": "a34283cc-1f93-43dc-a6bf-8b3a313b1983",
   "metadata": {
    "tags": []
   },
   "outputs": [],
   "source": [
    "dl_test = LD(\n",
    "    img_path=\"datasets/Russia/test/images/\",\n",
    "    mask_path=\"datasets/Russia/test/masks/\",\n",
    "    batch_size=BATCH,\n",
    "    transforms=False,\n",
    "    indexes=list(INDEXES.values()),\n",
    "    # n_random=10\n",
    ")"
   ]
  },
  {
   "cell_type": "code",
   "execution_count": null,
   "id": "f17c00fc-ee50-4c74-86e8-09fa009700bf",
   "metadata": {
    "tags": []
   },
   "outputs": [],
   "source": [
    "model_old.test(dl_valid)"
   ]
  },
  {
   "cell_type": "code",
   "execution_count": null,
   "id": "ad0d1967-2448-4edb-9404-f48b89e2ebd4",
   "metadata": {
    "tags": []
   },
   "outputs": [],
   "source": [
    "model_old.test(dl_test)"
   ]
  },
  {
   "cell_type": "code",
   "execution_count": null,
   "id": "a82a87a5-687c-41cc-9679-8c23f09a8b79",
   "metadata": {},
   "outputs": [],
   "source": [
    "model_old.plot_training_history()"
   ]
  },
  {
   "cell_type": "code",
   "execution_count": null,
   "id": "647c9feb-7e9c-4952-8d98-b8271b286ad3",
   "metadata": {
    "tags": []
   },
   "outputs": [],
   "source": [
    "from random import choice as c\n",
    "\n",
    "dl_valid.plot_prediction(model_old, c(range(200)))"
   ]
  },
  {
   "cell_type": "code",
   "execution_count": null,
   "id": "47458432-0344-4e19-8b9b-2b342c88a5a9",
   "metadata": {
    "tags": []
   },
   "outputs": [],
   "source": [
    "epochs_sum = 10\n",
    "m_name = f\"epochs={epochs_sum}\"\n",
    "model.pickle(f\"models/{m_name}.torch\")"
   ]
  },
  {
   "cell_type": "code",
   "execution_count": null,
   "id": "fb59321e-0495-42ac-9f77-0b318c3076c5",
   "metadata": {
    "tags": []
   },
   "outputs": [],
   "source": []
  },
  {
   "cell_type": "code",
   "execution_count": null,
   "id": "93c78551-a54d-4bc7-8424-9cbe8872db80",
   "metadata": {
    "tags": []
   },
   "outputs": [],
   "source": []
  }
 ],
 "metadata": {
  "kernelspec": {
   "display_name": "DataSphere Kernel",
   "language": "python",
   "name": "python3"
  },
  "language_info": {
   "codemirror_mode": {
    "name": "ipython",
    "version": 3
   },
   "file_extension": ".py",
   "mimetype": "text/x-python",
   "name": "python",
   "nbconvert_exporter": "python",
   "pygments_lexer": "ipython3",
   "version": "3.10.12"
  }
 },
 "nbformat": 4,
 "nbformat_minor": 5
}
