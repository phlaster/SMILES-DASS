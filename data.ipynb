{
 "cells": [
  {
   "cell_type": "markdown",
   "id": "f0867f0d-4d24-4ad4-aa29-503e82a23560",
   "metadata": {
    "tags": []
   },
   "source": [
    "## Channels\n",
    "|**N**          |0  |1  |2  |3  |4  | 5 | 6 | 7 | 8 | 9 |\n",
    "|---------------|---|---|---|---|---|---|---|---|---|---|\n",
    "|**Sentinel-2A**|B02|B03|B04|B05|B06|B07|B08|B8A|B11|B12|\n",
    "|**Standard**   |B  |G  |R  |RE1|RE2|RE3|N  |N2 |S1 |S2 |\n",
    "\n",
    "## Classes:\n",
    "|**N**        |1  |2  |3  |4  | 5 |\n",
    "|-|-|-|-|-|-|\n",
    "|**seg. mask**|open water|settlements|bair soil|forest|grassland|\n",
    "\n",
    "## Indexes:\n",
    "|short|long|type|formula|\n",
    "|-|-|-|-|\n",
    "LSWI|Land Surface Water Index|water|(N - S1)/(N + S1)"
   ]
  },
  {
   "cell_type": "code",
   "execution_count": null,
   "id": "be79c1ac",
   "metadata": {},
   "outputs": [],
   "source": [
    "INDEXES = {\n",
    "    'BI': '((S1 + R) - (N + B))/((S1 + R) + (N + B))',\n",
    "    'BNDVI': '(N - B)/(N + B)',\n",
    "    'MGRVI': '(G ** 2.0 - R ** 2.0) / (G ** 2.0 + R ** 2.0)',\n",
    "    'NDCI': '(RE1 - R)/(RE1 + R)',\n",
    "    'NLI': '((N ** 2) - R)/((N ** 2) + R)',\n",
    "}"
   ]
  },
  {
   "cell_type": "code",
   "execution_count": null,
   "id": "084e698f-b67a-4bcf-b5f7-d3afc9998661",
   "metadata": {
    "tags": []
   },
   "outputs": [],
   "source": [
    "from LandcoverDataset import LandcoverDataset as LD\n",
    "from utils import *\n",
    "from DataVis import *\n",
    "from Model import CNN, CNN_load\n",
    "from UNet import UNet"
   ]
  },
  {
   "cell_type": "code",
   "execution_count": null,
   "id": "2eb55f67-cd32-42a9-bcac-e238481d7d0e",
   "metadata": {
    "tags": []
   },
   "outputs": [],
   "source": [
    "BATCH = 2\n",
    "\n",
    "dl_train = LD(\n",
    "    img_path=\"datasets/USA/train/images/\", \n",
    "    mask_path=\"datasets/USA/train/masks/\", \n",
    "    # n_random = 50,\n",
    "    batch_size = BATCH,\n",
    "    indexes = list(INDEXES.values())\n",
    ")\n",
    "dl_valid = LD(\n",
    "    img_path=\"datasets/USA/valid/images/\", \n",
    "    mask_path=\"datasets/USA/valid/masks/\", \n",
    "    # n_random = 10,\n",
    "    batch_size = BATCH,\n",
    "    transforms = False,\n",
    "    indexes = list(INDEXES.values())\n",
    ")"
   ]
  },
  {
   "cell_type": "code",
   "execution_count": null,
   "id": "e4cba92d-2f95-4ada-aad6-f6ec0368d34b",
   "metadata": {
    "tags": []
   },
   "outputs": [],
   "source": [
    "img, mask = dl_train.rand_samp_names()\n",
    "print(tif_info(img))\n",
    "print(tif_info(mask))"
   ]
  },
  {
   "cell_type": "code",
   "execution_count": null,
   "id": "10638240-1756-4e3d-9bd9-99650f4fe5b6",
   "metadata": {
    "tags": []
   },
   "outputs": [],
   "source": [
    "print(f\"Images: {dl_train[0][0].shape}\")\n",
    "print(f\"Masks:  {dl_train[0][1].shape}\")"
   ]
  },
  {
   "cell_type": "code",
   "execution_count": null,
   "id": "4abe24e4-8c41-477c-8df3-124d628c262a",
   "metadata": {
    "tags": []
   },
   "outputs": [],
   "source": [
    "dl_train.plot_sample(5)"
   ]
  },
  {
   "cell_type": "code",
   "execution_count": null,
   "id": "a06c083b-5a4e-4178-b407-9ec860a79de3",
   "metadata": {
    "tags": []
   },
   "outputs": [],
   "source": [
    "dl_train.getinfo()"
   ]
  },
  {
   "cell_type": "code",
   "execution_count": null,
   "id": "4f543292-fcd9-46d9-b78b-616b60080322",
   "metadata": {
    "tags": []
   },
   "outputs": [],
   "source": [
    "import torch.nn as nn\n",
    "\n",
    "INPUT_CHANNELS = 10 + 5\n",
    "N_CLASSES = 5\n",
    "\n",
    "layers = [\n",
    "            nn.Conv2d(INPUT_CHANNELS, 32, kernel_size=3, padding=1),\n",
    "            nn.BatchNorm2d(32),\n",
    "            nn.ReLU(),\n",
    "            nn.Conv2d(32, 32, kernel_size=3, padding=1),\n",
    "            nn.BatchNorm2d(32),\n",
    "            nn.ReLU(),\n",
    "            nn.MaxPool2d(kernel_size=2, stride=2),\n",
    "            \n",
    "            nn.Conv2d(32, 64, kernel_size=3, padding=1),\n",
    "            nn.BatchNorm2d(64),\n",
    "            nn.ReLU(),\n",
    "            nn.Conv2d(64, 64, kernel_size=3, padding=1),\n",
    "            nn.BatchNorm2d(64),\n",
    "            nn.ReLU(),\n",
    "            nn.MaxPool2d(kernel_size=2, stride=2),\n",
    "            \n",
    "            nn.Conv2d(64, 128, kernel_size=3, padding=1),\n",
    "            nn.BatchNorm2d(128),\n",
    "            nn.ReLU(),\n",
    "            nn.Conv2d(128, 128, kernel_size=3, padding=1),\n",
    "            nn.BatchNorm2d(128),\n",
    "            nn.ReLU(),\n",
    "            nn.Conv2d(128, N_CLASSES, kernel_size=1),\n",
    "            nn.Upsample(size=(512, 512), mode='nearest')\n",
    "]\n",
    "\n",
    "model = CNN(layers)"
   ]
  },
  {
   "cell_type": "code",
   "execution_count": null,
   "id": "1aca9fde",
   "metadata": {},
   "outputs": [],
   "source": [
    "model = UNet(n_channels=INPUT_CHANNELS, n_classes=N_CLASSES)"
   ]
  },
  {
   "cell_type": "code",
   "execution_count": null,
   "id": "7d28c3e5-6db9-4d13-b7fe-4820d370b9ba",
   "metadata": {
    "tags": []
   },
   "outputs": [],
   "source": [
    "num_epochs = 2"
   ]
  },
  {
   "cell_type": "code",
   "execution_count": null,
   "id": "e8120058-a40c-4700-8d70-78726b4808f7",
   "metadata": {
    "tags": []
   },
   "outputs": [],
   "source": [
    "learning_rate = 0.002"
   ]
  },
  {
   "cell_type": "code",
   "execution_count": null,
   "id": "824c27f3-e9fc-4b2b-8515-a9cd6bd7913b",
   "metadata": {
    "tags": []
   },
   "outputs": [],
   "source": [
    "model.train(dl_train, dl_valid, num_epochs, learning_rate)"
   ]
  },
  {
   "cell_type": "code",
   "execution_count": null,
   "id": "647c9feb-7e9c-4952-8d98-b8271b286ad3",
   "metadata": {
    "tags": []
   },
   "outputs": [],
   "source": [
    "from random import choice as c\n",
    "dl_valid.plot_prediction(model, c(range(10)))"
   ]
  },
  {
   "cell_type": "code",
   "execution_count": null,
   "id": "47458432-0344-4e19-8b9b-2b342c88a5a9",
   "metadata": {
    "tags": []
   },
   "outputs": [],
   "source": [
    "m_name = f\"ne={epochs_sum}, hl={hidden_layers}\"\n",
    "model.pickle(f\"models/{m_name}.torch\")"
   ]
  },
  {
   "cell_type": "code",
   "execution_count": null,
   "id": "fb59321e-0495-42ac-9f77-0b318c3076c5",
   "metadata": {
    "tags": []
   },
   "outputs": [],
   "source": [
    "model.unpickle(\"models/model.torch\")"
   ]
  },
  {
   "cell_type": "code",
   "execution_count": null,
   "id": "93c78551-a54d-4bc7-8424-9cbe8872db80",
   "metadata": {
    "tags": []
   },
   "outputs": [],
   "source": [
    "model = CNN_load(\"models/model.torch\")"
   ]
  }
 ],
 "metadata": {
  "kernelspec": {
   "display_name": "DataSphere Kernel",
   "language": "python",
   "name": "python3"
  },
  "language_info": {
   "codemirror_mode": {
    "name": "ipython",
    "version": 3
   },
   "file_extension": ".py",
   "mimetype": "text/x-python",
   "name": "python",
   "nbconvert_exporter": "python",
   "pygments_lexer": "ipython3",
   "version": "3.12.5"
  }
 },
 "nbformat": 4,
 "nbformat_minor": 5
}
